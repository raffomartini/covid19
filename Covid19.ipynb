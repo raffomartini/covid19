{
 "cells": [
  {
   "cell_type": "code",
   "execution_count": 117,
   "metadata": {},
   "outputs": [],
   "source": [
    "from google.cloud import bigquery\n",
    "import pandas"
   ]
  },
  {
   "cell_type": "code",
   "execution_count": 118,
   "metadata": {},
   "outputs": [
    {
     "name": "stdout",
     "output_type": "stream",
     "text": [
      "Client creating using default project: raffo-bq-xperiment\n"
     ]
    }
   ],
   "source": [
    "client = bigquery.Client(location=\"US\")\n",
    "print(\"Client creating using default project: {}\".format(client.project))"
   ]
  },
  {
   "cell_type": "code",
   "execution_count": 119,
   "metadata": {},
   "outputs": [],
   "source": [
    "query = \"\"\"\n",
    "SELECT * FROM `bigquery-public-data.covid19_jhu_csse.deaths` \n",
    "where province_state is null and country_region = \"United Kingdom\" or country_region = \"Italy\"\n",
    "\"\"\""
   ]
  },
  {
   "cell_type": "code",
   "execution_count": 120,
   "metadata": {},
   "outputs": [
    {
     "data": {
      "text/html": [
       "<div>\n",
       "<style scoped>\n",
       "    .dataframe tbody tr th:only-of-type {\n",
       "        vertical-align: middle;\n",
       "    }\n",
       "\n",
       "    .dataframe tbody tr th {\n",
       "        vertical-align: top;\n",
       "    }\n",
       "\n",
       "    .dataframe thead th {\n",
       "        text-align: right;\n",
       "    }\n",
       "</style>\n",
       "<table border=\"1\" class=\"dataframe\">\n",
       "  <thead>\n",
       "    <tr style=\"text-align: right;\">\n",
       "      <th></th>\n",
       "      <th>province_state</th>\n",
       "      <th>country_region</th>\n",
       "      <th>latitude</th>\n",
       "      <th>longitude</th>\n",
       "      <th>location_geom</th>\n",
       "      <th>_1_22_20</th>\n",
       "      <th>_1_23_20</th>\n",
       "      <th>_1_24_20</th>\n",
       "      <th>_1_25_20</th>\n",
       "      <th>_1_26_20</th>\n",
       "      <th>...</th>\n",
       "      <th>_3_22_20</th>\n",
       "      <th>_3_23_20</th>\n",
       "      <th>_3_24_20</th>\n",
       "      <th>_3_25_20</th>\n",
       "      <th>_3_26_20</th>\n",
       "      <th>_3_27_20</th>\n",
       "      <th>_3_28_20</th>\n",
       "      <th>_3_29_20</th>\n",
       "      <th>_3_30_20</th>\n",
       "      <th>_3_31_20</th>\n",
       "    </tr>\n",
       "  </thead>\n",
       "  <tbody>\n",
       "    <tr>\n",
       "      <th>0</th>\n",
       "      <td>None</td>\n",
       "      <td>Italy</td>\n",
       "      <td>43.0000</td>\n",
       "      <td>12.000</td>\n",
       "      <td>POINT(12 43)</td>\n",
       "      <td>0</td>\n",
       "      <td>0</td>\n",
       "      <td>0</td>\n",
       "      <td>0</td>\n",
       "      <td>0</td>\n",
       "      <td>...</td>\n",
       "      <td>5476</td>\n",
       "      <td>6077</td>\n",
       "      <td>6820</td>\n",
       "      <td>7503</td>\n",
       "      <td>8215</td>\n",
       "      <td>9134</td>\n",
       "      <td>10023</td>\n",
       "      <td>10779</td>\n",
       "      <td>11591</td>\n",
       "      <td>12428</td>\n",
       "    </tr>\n",
       "    <tr>\n",
       "      <th>1</th>\n",
       "      <td>None</td>\n",
       "      <td>United Kingdom</td>\n",
       "      <td>55.3781</td>\n",
       "      <td>-3.436</td>\n",
       "      <td>POINT(-3.436 55.3781)</td>\n",
       "      <td>0</td>\n",
       "      <td>0</td>\n",
       "      <td>0</td>\n",
       "      <td>0</td>\n",
       "      <td>0</td>\n",
       "      <td>...</td>\n",
       "      <td>281</td>\n",
       "      <td>335</td>\n",
       "      <td>422</td>\n",
       "      <td>465</td>\n",
       "      <td>578</td>\n",
       "      <td>759</td>\n",
       "      <td>1019</td>\n",
       "      <td>1228</td>\n",
       "      <td>1408</td>\n",
       "      <td>1789</td>\n",
       "    </tr>\n",
       "  </tbody>\n",
       "</table>\n",
       "<p>2 rows × 75 columns</p>\n",
       "</div>"
      ],
      "text/plain": [
       "  province_state  country_region  latitude  longitude          location_geom  \\\n",
       "0           None           Italy   43.0000     12.000           POINT(12 43)   \n",
       "1           None  United Kingdom   55.3781     -3.436  POINT(-3.436 55.3781)   \n",
       "\n",
       "   _1_22_20  _1_23_20  _1_24_20  _1_25_20  _1_26_20  ...  _3_22_20  _3_23_20  \\\n",
       "0         0         0         0         0         0  ...      5476      6077   \n",
       "1         0         0         0         0         0  ...       281       335   \n",
       "\n",
       "   _3_24_20  _3_25_20  _3_26_20  _3_27_20  _3_28_20  _3_29_20  _3_30_20  \\\n",
       "0      6820      7503      8215      9134     10023     10779     11591   \n",
       "1       422       465       578       759      1019      1228      1408   \n",
       "\n",
       "   _3_31_20  \n",
       "0     12428  \n",
       "1      1789  \n",
       "\n",
       "[2 rows x 75 columns]"
      ]
     },
     "execution_count": 120,
     "metadata": {},
     "output_type": "execute_result"
    }
   ],
   "source": [
    "query_job = client.query(\n",
    "    query,\n",
    "    # Location must match that of the dataset(s) referenced in the query.\n",
    "    location=\"US\",\n",
    ")  # API request - starts the query\n",
    "df = query_job.to_dataframe()\n",
    "df"
   ]
  },
  {
   "cell_type": "code",
   "execution_count": 121,
   "metadata": {},
   "outputs": [
    {
     "data": {
      "text/html": [
       "<div>\n",
       "<style scoped>\n",
       "    .dataframe tbody tr th:only-of-type {\n",
       "        vertical-align: middle;\n",
       "    }\n",
       "\n",
       "    .dataframe tbody tr th {\n",
       "        vertical-align: top;\n",
       "    }\n",
       "\n",
       "    .dataframe thead th {\n",
       "        text-align: right;\n",
       "    }\n",
       "</style>\n",
       "<table border=\"1\" class=\"dataframe\">\n",
       "  <thead>\n",
       "    <tr style=\"text-align: right;\">\n",
       "      <th></th>\n",
       "      <th>country_region</th>\n",
       "      <th>_1_22_20</th>\n",
       "      <th>_1_23_20</th>\n",
       "      <th>_1_24_20</th>\n",
       "      <th>_1_25_20</th>\n",
       "      <th>_1_26_20</th>\n",
       "      <th>_1_27_20</th>\n",
       "      <th>_1_28_20</th>\n",
       "      <th>_1_29_20</th>\n",
       "      <th>_1_30_20</th>\n",
       "      <th>...</th>\n",
       "      <th>_3_22_20</th>\n",
       "      <th>_3_23_20</th>\n",
       "      <th>_3_24_20</th>\n",
       "      <th>_3_25_20</th>\n",
       "      <th>_3_26_20</th>\n",
       "      <th>_3_27_20</th>\n",
       "      <th>_3_28_20</th>\n",
       "      <th>_3_29_20</th>\n",
       "      <th>_3_30_20</th>\n",
       "      <th>_3_31_20</th>\n",
       "    </tr>\n",
       "  </thead>\n",
       "  <tbody>\n",
       "    <tr>\n",
       "      <th>0</th>\n",
       "      <td>Italy</td>\n",
       "      <td>0</td>\n",
       "      <td>0</td>\n",
       "      <td>0</td>\n",
       "      <td>0</td>\n",
       "      <td>0</td>\n",
       "      <td>0</td>\n",
       "      <td>0</td>\n",
       "      <td>0</td>\n",
       "      <td>0</td>\n",
       "      <td>...</td>\n",
       "      <td>5476</td>\n",
       "      <td>6077</td>\n",
       "      <td>6820</td>\n",
       "      <td>7503</td>\n",
       "      <td>8215</td>\n",
       "      <td>9134</td>\n",
       "      <td>10023</td>\n",
       "      <td>10779</td>\n",
       "      <td>11591</td>\n",
       "      <td>12428</td>\n",
       "    </tr>\n",
       "    <tr>\n",
       "      <th>1</th>\n",
       "      <td>United Kingdom</td>\n",
       "      <td>0</td>\n",
       "      <td>0</td>\n",
       "      <td>0</td>\n",
       "      <td>0</td>\n",
       "      <td>0</td>\n",
       "      <td>0</td>\n",
       "      <td>0</td>\n",
       "      <td>0</td>\n",
       "      <td>0</td>\n",
       "      <td>...</td>\n",
       "      <td>281</td>\n",
       "      <td>335</td>\n",
       "      <td>422</td>\n",
       "      <td>465</td>\n",
       "      <td>578</td>\n",
       "      <td>759</td>\n",
       "      <td>1019</td>\n",
       "      <td>1228</td>\n",
       "      <td>1408</td>\n",
       "      <td>1789</td>\n",
       "    </tr>\n",
       "  </tbody>\n",
       "</table>\n",
       "<p>2 rows × 71 columns</p>\n",
       "</div>"
      ],
      "text/plain": [
       "   country_region  _1_22_20  _1_23_20  _1_24_20  _1_25_20  _1_26_20  _1_27_20  \\\n",
       "0           Italy         0         0         0         0         0         0   \n",
       "1  United Kingdom         0         0         0         0         0         0   \n",
       "\n",
       "   _1_28_20  _1_29_20  _1_30_20  ...  _3_22_20  _3_23_20  _3_24_20  _3_25_20  \\\n",
       "0         0         0         0  ...      5476      6077      6820      7503   \n",
       "1         0         0         0  ...       281       335       422       465   \n",
       "\n",
       "   _3_26_20  _3_27_20  _3_28_20  _3_29_20  _3_30_20  _3_31_20  \n",
       "0      8215      9134     10023     10779     11591     12428  \n",
       "1       578       759      1019      1228      1408      1789  \n",
       "\n",
       "[2 rows x 71 columns]"
      ]
     },
     "execution_count": 121,
     "metadata": {},
     "output_type": "execute_result"
    }
   ],
   "source": [
    " df[list (('country_region',)) + list(df.columns[5:])]"
   ]
  },
  {
   "cell_type": "code",
   "execution_count": 122,
   "metadata": {},
   "outputs": [],
   "source": [
    "# importing pandas as pd \n",
    "import pandas as pd \n",
    "   \n",
    "# dictionary of lists \n",
    "dict = {'name':[\"aparna\", \"pankaj\", \"sudhir\", \"Geeku\"], \n",
    "        'degree': [\"MBA\", \"BCA\", \"M.Tech\", \"MBA\"], \n",
    "        'score':[90, 40, 80, 98]} \n",
    "  \n",
    "# creating a dataframe from a dictionary  \n",
    "df = pd.DataFrame(dict) "
   ]
  },
  {
   "cell_type": "code",
   "execution_count": 123,
   "metadata": {},
   "outputs": [
    {
     "data": {
      "text/html": [
       "<div>\n",
       "<style scoped>\n",
       "    .dataframe tbody tr th:only-of-type {\n",
       "        vertical-align: middle;\n",
       "    }\n",
       "\n",
       "    .dataframe tbody tr th {\n",
       "        vertical-align: top;\n",
       "    }\n",
       "\n",
       "    .dataframe thead th {\n",
       "        text-align: right;\n",
       "    }\n",
       "</style>\n",
       "<table border=\"1\" class=\"dataframe\">\n",
       "  <thead>\n",
       "    <tr style=\"text-align: right;\">\n",
       "      <th></th>\n",
       "      <th>name</th>\n",
       "      <th>degree</th>\n",
       "      <th>score</th>\n",
       "    </tr>\n",
       "  </thead>\n",
       "  <tbody>\n",
       "    <tr>\n",
       "      <th>0</th>\n",
       "      <td>aparna</td>\n",
       "      <td>MBA</td>\n",
       "      <td>90</td>\n",
       "    </tr>\n",
       "    <tr>\n",
       "      <th>1</th>\n",
       "      <td>pankaj</td>\n",
       "      <td>BCA</td>\n",
       "      <td>40</td>\n",
       "    </tr>\n",
       "    <tr>\n",
       "      <th>2</th>\n",
       "      <td>sudhir</td>\n",
       "      <td>M.Tech</td>\n",
       "      <td>80</td>\n",
       "    </tr>\n",
       "    <tr>\n",
       "      <th>3</th>\n",
       "      <td>Geeku</td>\n",
       "      <td>MBA</td>\n",
       "      <td>98</td>\n",
       "    </tr>\n",
       "  </tbody>\n",
       "</table>\n",
       "</div>"
      ],
      "text/plain": [
       "     name  degree  score\n",
       "0  aparna     MBA     90\n",
       "1  pankaj     BCA     40\n",
       "2  sudhir  M.Tech     80\n",
       "3   Geeku     MBA     98"
      ]
     },
     "execution_count": 123,
     "metadata": {},
     "output_type": "execute_result"
    }
   ],
   "source": [
    "df\n"
   ]
  },
  {
   "cell_type": "code",
   "execution_count": 124,
   "metadata": {},
   "outputs": [
    {
     "data": {
      "text/html": [
       "<div>\n",
       "<style scoped>\n",
       "    .dataframe tbody tr th:only-of-type {\n",
       "        vertical-align: middle;\n",
       "    }\n",
       "\n",
       "    .dataframe tbody tr th {\n",
       "        vertical-align: top;\n",
       "    }\n",
       "\n",
       "    .dataframe thead th {\n",
       "        text-align: right;\n",
       "    }\n",
       "</style>\n",
       "<table border=\"1\" class=\"dataframe\">\n",
       "  <thead>\n",
       "    <tr style=\"text-align: right;\">\n",
       "      <th></th>\n",
       "      <th>name</th>\n",
       "      <th>degree</th>\n",
       "      <th>score</th>\n",
       "    </tr>\n",
       "  </thead>\n",
       "  <tbody>\n",
       "    <tr>\n",
       "      <th>0</th>\n",
       "      <td>aparna</td>\n",
       "      <td>MBA</td>\n",
       "      <td>90</td>\n",
       "    </tr>\n",
       "    <tr>\n",
       "      <th>1</th>\n",
       "      <td>pankaj</td>\n",
       "      <td>BCA</td>\n",
       "      <td>40</td>\n",
       "    </tr>\n",
       "    <tr>\n",
       "      <th>2</th>\n",
       "      <td>sudhir</td>\n",
       "      <td>M.Tech</td>\n",
       "      <td>80</td>\n",
       "    </tr>\n",
       "    <tr>\n",
       "      <th>3</th>\n",
       "      <td>Geeku</td>\n",
       "      <td>MBA</td>\n",
       "      <td>98</td>\n",
       "    </tr>\n",
       "  </tbody>\n",
       "</table>\n",
       "</div>"
      ],
      "text/plain": [
       "     name  degree  score\n",
       "0  aparna     MBA     90\n",
       "1  pankaj     BCA     40\n",
       "2  sudhir  M.Tech     80\n",
       "3   Geeku     MBA     98"
      ]
     },
     "execution_count": 124,
     "metadata": {},
     "output_type": "execute_result"
    }
   ],
   "source": [
    "df"
   ]
  },
  {
   "cell_type": "code",
   "execution_count": 125,
   "metadata": {},
   "outputs": [
    {
     "name": "stdout",
     "output_type": "stream",
     "text": [
      "Pandas(Index=0, name='aparna', degree='MBA', score=90)\n",
      "Pandas(Index=1, name='pankaj', degree='BCA', score=40)\n",
      "Pandas(Index=2, name='sudhir', degree='M.Tech', score=80)\n",
      "Pandas(Index=3, name='Geeku', degree='MBA', score=98)\n"
     ]
    }
   ],
   "source": [
    "for i in df.itertuples(): \n",
    "    print(i) "
   ]
  },
  {
   "cell_type": "code",
   "execution_count": 126,
   "metadata": {},
   "outputs": [
    {
     "data": {
      "text/plain": [
       "Pandas(Index=0, name='aparna', degree='MBA', score=90)"
      ]
     },
     "execution_count": 126,
     "metadata": {},
     "output_type": "execute_result"
    }
   ],
   "source": [
    "tuple(df.itertuples())[0]\n"
   ]
  },
  {
   "cell_type": "code",
   "execution_count": null,
   "metadata": {},
   "outputs": [],
   "source": []
  }
 ],
 "metadata": {
  "kernelspec": {
   "display_name": "Python 3",
   "language": "python",
   "name": "python3"
  },
  "language_info": {
   "codemirror_mode": {
    "name": "ipython",
    "version": 3
   },
   "file_extension": ".py",
   "mimetype": "text/x-python",
   "name": "python",
   "nbconvert_exporter": "python",
   "pygments_lexer": "ipython3",
   "version": "3.7.6"
  }
 },
 "nbformat": 4,
 "nbformat_minor": 4
}
